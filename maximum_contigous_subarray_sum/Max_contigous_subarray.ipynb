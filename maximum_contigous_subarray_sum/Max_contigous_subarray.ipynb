{
 "cells": [
  {
   "cell_type": "markdown",
   "metadata": {},
   "source": [
    "##  Maximum contigous subarray"
   ]
  },
  {
   "cell_type": "markdown",
   "metadata": {},
   "source": [
    "#### Given an integer array nums, find the contiguous subarray (containing at least one number) which has the largest sum and return its sum."
   ]
  },
  {
   "cell_type": "markdown",
   "metadata": {},
   "source": [
    "input: -2,1,-3,4,-1,2,1,-5,4                                                                                               \n",
    "output: 6                                                                                                                  \n",
    "explanation : the subarray [4,-1,2,1] has the maximum sum (4+-1+2+1 = 6)"
   ]
  },
  {
   "cell_type": "markdown",
   "metadata": {},
   "source": [
    "According to the above problem statement maximum sum is enough, sometimes we may asked as to print  maximum sum subarray,\n",
    "hence in the below code I included that also"
   ]
  },
  {
   "cell_type": "code",
   "execution_count": 22,
   "metadata": {},
   "outputs": [
    {
     "name": "stdout",
     "output_type": "stream",
     "text": [
      "starting index of the maximum subarray: 3\n",
      "ending index of the maximum subarray: 6\n",
      "Maximum sum subarray is [4, -1, 2, 1]\n",
      "maximum sum 6\n"
     ]
    }
   ],
   "source": [
    "\n",
    "def maxSubArraySum(a,size):       \n",
    "    Max =a[0]                # initially takes first element as max\n",
    "    curr = a[0]                 #  initially taking first element as curr\n",
    "    start=0\n",
    "    end =0\n",
    "    for i in range(1,size): \n",
    "        curr = max(a[i], curr + a[i])\n",
    "        if Max<curr:\n",
    "            Max = curr   #  updating maximum \n",
    "            if Max > a[i]:\n",
    "                end=i\n",
    "            else:\n",
    "                start =i\n",
    "                end=i\n",
    "    print(\"starting index of the maximum subarray:\",start)\n",
    "    print(\"ending index of the maximum subarray:\",end)\n",
    "    print(\"Maximum sum subarray is\",a[start:end+1])\n",
    "    return Max\n",
    "  \n",
    "\n",
    "a= [-2,1,-3,4,-1,2,1,-5,4]\n",
    "n=len(a)\n",
    "print(\"maximum sum\",maxSubArraySum(a,n))\n"
   ]
  },
  {
   "cell_type": "code",
   "execution_count": null,
   "metadata": {},
   "outputs": [],
   "source": [
    " "
   ]
  },
  {
   "cell_type": "code",
   "execution_count": null,
   "metadata": {},
   "outputs": [],
   "source": []
  }
 ],
 "metadata": {
  "kernelspec": {
   "display_name": "Python 3",
   "language": "python",
   "name": "python3"
  },
  "language_info": {
   "codemirror_mode": {
    "name": "ipython",
    "version": 3
   },
   "file_extension": ".py",
   "mimetype": "text/x-python",
   "name": "python",
   "nbconvert_exporter": "python",
   "pygments_lexer": "ipython3",
   "version": "3.7.3"
  }
 },
 "nbformat": 4,
 "nbformat_minor": 2
}
