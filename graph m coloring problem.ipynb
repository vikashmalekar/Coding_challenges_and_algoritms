{
 "cells": [
  {
   "cell_type": "code",
   "execution_count": 1,
   "metadata": {},
   "outputs": [
    {
     "name": "stdout",
     "output_type": "stream",
     "text": [
      "4\n",
      "0 1 1 1\n",
      "1 0 1 0\n",
      "1 1 0 1\n",
      "1 0 1 0\n",
      "3\n",
      "1 2 3 2 "
     ]
    }
   ],
   "source": [
    "# graph m coloring problem\n",
    "def issafe(graph,node,color,n,colors):\n",
    "    for i in range(0,node):\n",
    "        if graph[node][i]  and colors[i]==color:\n",
    "            return False\n",
    "    return True\n",
    "\n",
    "def coloring(graph,m,colors,n,node):\n",
    "    if node == n:\n",
    "        return True\n",
    "    for i in range(1,m+1):\n",
    "        if issafe(graph,node,i,n,colors):\n",
    "            colors[node]=i\n",
    "            if coloring(graph,m,colors,n,node+1):\n",
    "                return True\n",
    "            colors[node] = 0\n",
    "    return False\n",
    "n = int(input())\n",
    "# adjacency representation of a graph\n",
    "graph  = [list(map(int,input().split())) for i in range(n)]\n",
    "# no of color\n",
    "m = int(input())\n",
    "colors  = [0 for i in range(n)]\n",
    "if coloring(graph,m,colors,n,0):\n",
    "    for i in range(n):\n",
    "        print(colors[i],end=\" \")\n",
    "else:\n",
    "    print(\"-1\")\n",
    "    "
   ]
  },
  {
   "cell_type": "code",
   "execution_count": null,
   "metadata": {},
   "outputs": [],
   "source": []
  }
 ],
 "metadata": {
  "kernelspec": {
   "display_name": "Python 3",
   "language": "python",
   "name": "python3"
  },
  "language_info": {
   "codemirror_mode": {
    "name": "ipython",
    "version": 3
   },
   "file_extension": ".py",
   "mimetype": "text/x-python",
   "name": "python",
   "nbconvert_exporter": "python",
   "pygments_lexer": "ipython3",
   "version": "3.7.3"
  }
 },
 "nbformat": 4,
 "nbformat_minor": 4
}
