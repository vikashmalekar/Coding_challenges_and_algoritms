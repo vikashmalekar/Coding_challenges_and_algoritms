{
 "cells": [
  {
   "cell_type": "code",
   "execution_count": 4,
   "metadata": {},
   "outputs": [
    {
     "name": "stdout",
     "output_type": "stream",
     "text": [
      "1 2 3 4 5\n",
      "2\n",
      "1 3\n",
      "6\n",
      "2 4\n",
      "9\n"
     ]
    }
   ],
   "source": [
    "arr = list(map(int,input().split()))\n",
    "n = len(arr)\n",
    "q = int(input())\n",
    "pre = [0]*(n+1)\n",
    "for i in range(1,n+1):\n",
    "    pre[i] = pre[i-1]+arr[i-1]\n",
    "for i in range(q):\n",
    "    l,r = map(int,input().split())\n",
    "    print(pre[r]-pre[l-1])"
   ]
  },
  {
   "cell_type": "code",
   "execution_count": null,
   "metadata": {},
   "outputs": [],
   "source": []
  }
 ],
 "metadata": {
  "kernelspec": {
   "display_name": "Python 3",
   "language": "python",
   "name": "python3"
  },
  "language_info": {
   "codemirror_mode": {
    "name": "ipython",
    "version": 3
   },
   "file_extension": ".py",
   "mimetype": "text/x-python",
   "name": "python",
   "nbconvert_exporter": "python",
   "pygments_lexer": "ipython3",
   "version": "3.7.3"
  }
 },
 "nbformat": 4,
 "nbformat_minor": 4
}
