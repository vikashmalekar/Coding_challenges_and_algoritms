{
 "cells": [
  {
   "cell_type": "markdown",
   "metadata": {},
   "source": [
    "####  Every even integer greater than 2 can be expressed as a sum of two prime numbers"
   ]
  },
  {
   "cell_type": "code",
   "execution_count": 10,
   "metadata": {},
   "outputs": [
    {
     "name": "stdout",
     "output_type": "stream",
     "text": [
      "5\n",
      "1\n",
      "-1\n",
      "2\n",
      "-1\n",
      "40\n",
      "(37, 3)\n",
      "100\n",
      "(97, 3)\n",
      "500\n",
      "(487, 13)\n"
     ]
    }
   ],
   "source": [
    "def sieve(n):\n",
    "    temp = [True]*(n+1)\n",
    "    p=2\n",
    "    while p*p<=n:\n",
    "        if temp[p]==True:\n",
    "            for i in range(p*p,n+1,p):\n",
    "                temp[i] = False\n",
    "        p+=1\n",
    "    primes=[]\n",
    "    for i in range(2,n+1):\n",
    "        if temp[i]:\n",
    "            primes.append(i)\n",
    "    return primes\n",
    "def goldbatch(n):\n",
    "    if n<=2 or n%2!=0:\n",
    "        return -1\n",
    "    primes = sieve(n)\n",
    "    for i in primes:\n",
    "        if n-i in primes:\n",
    "            return n-i,i\n",
    "for _ in range(int(input())):\n",
    "    print(goldbatch(int(input())))\n"
   ]
  },
  {
   "cell_type": "code",
   "execution_count": null,
   "metadata": {},
   "outputs": [],
   "source": []
  },
  {
   "cell_type": "code",
   "execution_count": null,
   "metadata": {},
   "outputs": [],
   "source": []
  },
  {
   "cell_type": "code",
   "execution_count": null,
   "metadata": {},
   "outputs": [],
   "source": []
  }
 ],
 "metadata": {
  "kernelspec": {
   "display_name": "Python 3",
   "language": "python",
   "name": "python3"
  },
  "language_info": {
   "codemirror_mode": {
    "name": "ipython",
    "version": 3
   },
   "file_extension": ".py",
   "mimetype": "text/x-python",
   "name": "python",
   "nbconvert_exporter": "python",
   "pygments_lexer": "ipython3",
   "version": "3.7.3"
  }
 },
 "nbformat": 4,
 "nbformat_minor": 2
}
