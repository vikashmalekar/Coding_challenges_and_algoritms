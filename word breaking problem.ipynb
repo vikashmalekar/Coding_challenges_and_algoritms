{
 "cells": [
  {
   "cell_type": "code",
   "execution_count": 19,
   "metadata": {},
   "outputs": [
    {
     "name": "stdout",
     "output_type": "stream",
     "text": [
      "i like ice cream and man go icecream mango\n",
      "ilikeicecreamandmango\n",
      "21\n",
      "i like ice cream and man go\n",
      "i like ice cream and mango\n",
      "i like icecream and man go\n",
      "i like icecream and mango\n"
     ]
    }
   ],
   "source": [
    "def wordBreaking(listofwords,string,n,output):\n",
    "    \n",
    "    for i in range(0,n):\n",
    "        if string[0:i] in listofwords:\n",
    "            output.append(string[0:i])\n",
    "            if i==n-1:\n",
    "                print(\" \".join(output))\n",
    "            wordBreaking(listofwords,string[i:],n-i+1,output)\n",
    "    if len(output)!=0:\n",
    "        output.pop(-1)\n",
    "            \n",
    "listofwords = list(input().split())\n",
    "string = input()\n",
    "n = len(string)\n",
    "print(n)\n",
    "wordBreaking(listofwords,string,n,[])"
   ]
  },
  {
   "cell_type": "code",
   "execution_count": null,
   "metadata": {},
   "outputs": [],
   "source": [
    "input 1:\n",
    "i like sam sung samsung mobile\n",
    "ilikesamsungmobile\n",
    "\n",
    "input 2:\n",
    "i like ice cream and man go icecream mango\n",
    "ilikeicecreamandmango"
   ]
  }
 ],
 "metadata": {
  "kernelspec": {
   "display_name": "Python 3",
   "language": "python",
   "name": "python3"
  },
  "language_info": {
   "codemirror_mode": {
    "name": "ipython",
    "version": 3
   },
   "file_extension": ".py",
   "mimetype": "text/x-python",
   "name": "python",
   "nbconvert_exporter": "python",
   "pygments_lexer": "ipython3",
   "version": "3.7.3"
  }
 },
 "nbformat": 4,
 "nbformat_minor": 2
}
