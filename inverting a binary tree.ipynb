{
 "cells": [
  {
   "cell_type": "code",
   "execution_count": 9,
   "metadata": {},
   "outputs": [
    {
     "name": "stdout",
     "output_type": "stream",
     "text": [
      "4 2 7 1 3 6 9\n",
      "4 7 9 6 2 3 1 "
     ]
    }
   ],
   "source": [
    "class Node:\n",
    "    def __init__(self,val):\n",
    "        self.val = val\n",
    "        self.left = None\n",
    "        self.right = None\n",
    "class Tree:\n",
    "    def __init__(self):\n",
    "        self.root = None\n",
    "    def create(self,val):\n",
    "        if self.root == None:\n",
    "            self.root =  Node(val)\n",
    "        else:\n",
    "            curr = self.root\n",
    "            while True:\n",
    "                if val<curr.val:\n",
    "                    if curr.left:\n",
    "                        curr = curr.left\n",
    "                    else:\n",
    "                        curr.left = Node(val)\n",
    "                        break\n",
    "                elif val>curr.val:\n",
    "                    if curr.right:\n",
    "                        curr = curr.right\n",
    "                    else:\n",
    "                        curr.right = Node(val)\n",
    "                        break\n",
    "                else:\n",
    "                    break\n",
    "    def invert(self,root):\n",
    "        if root == None:\n",
    "            return root\n",
    "        self.invert(root.left)\n",
    "        self.invert(root.right)\n",
    "        root.left,root.right = root.right,root.left\n",
    "        return root\n",
    "    def preorder(self,root):\n",
    "        if root == None:\n",
    "            return root\n",
    "        print(root.val,end=\" \")\n",
    "        self.preorder(root.left)\n",
    "        self.preorder(root.right)\n",
    "arr = list(map(int,input().split()))\n",
    "t = Tree()\n",
    "for i in arr:\n",
    "    t.create(i)\n",
    "\n",
    "t.preorder(t.invert(t.root))\n",
    "\n",
    "            "
   ]
  },
  {
   "cell_type": "code",
   "execution_count": null,
   "metadata": {},
   "outputs": [],
   "source": []
  },
  {
   "cell_type": "code",
   "execution_count": null,
   "metadata": {},
   "outputs": [],
   "source": []
  }
 ],
 "metadata": {
  "kernelspec": {
   "display_name": "Python 3",
   "language": "python",
   "name": "python3"
  },
  "language_info": {
   "codemirror_mode": {
    "name": "ipython",
    "version": 3
   },
   "file_extension": ".py",
   "mimetype": "text/x-python",
   "name": "python",
   "nbconvert_exporter": "python",
   "pygments_lexer": "ipython3",
   "version": "3.7.3"
  }
 },
 "nbformat": 4,
 "nbformat_minor": 2
}
