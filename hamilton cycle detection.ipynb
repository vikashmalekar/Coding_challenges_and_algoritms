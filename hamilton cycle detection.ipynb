{
 "cells": [
  {
   "cell_type": "code",
   "execution_count": 19,
   "metadata": {},
   "outputs": [
    {
     "name": "stdout",
     "output_type": "stream",
     "text": [
      "5\n",
      "0 1 0 1 0\n",
      "1 0 1 1 1\n",
      "0 1 0 0 1\n",
      "1 1 0 0 1\n",
      "0 1 1 1 0\n",
      "[0, 1, 2, 4, 3, 0]\n"
     ]
    }
   ],
   "source": [
    "def issafe(graph,re,node,adj,n):\n",
    "    if graph[node][adj]:\n",
    "        if len(re) == n:\n",
    "            if re[0] == adj:\n",
    "                return True\n",
    "        if adj not in re:\n",
    "            return True\n",
    "    return False\n",
    "def hamilton(graph,re,n,node):\n",
    "    if len(re)==n+1:\n",
    "        return True\n",
    "    for i in range(n):\n",
    "        if issafe(graph,re,node,i,n):\n",
    "            re.append(i)\n",
    "            prev = node\n",
    "            node = i\n",
    "            if hamilton(graph,re,n,node):\n",
    "                return True\n",
    "            node = prev\n",
    "            re.pop(-1)        \n",
    "    return False\n",
    "\n",
    "n = int(input())\n",
    "graph = [list(map(int,input().split())) for i in range(n)]\n",
    "re = []\n",
    "re.append(\n",
    "    0)\n",
    "if hamilton(graph,re,n,0):\n",
    "    print(re)\n",
    "else:\n",
    "    print(-1)"
   ]
  },
  {
   "cell_type": "code",
   "execution_count": null,
   "metadata": {},
   "outputs": [],
   "source": [
    "0 1 0 1 0\n",
    "1 0 1 1 1\n",
    "0 1 0 0 1\n",
    "1 1 0 0 1\n",
    "0 1 1 1 0\n",
    "\n",
    "\n",
    "\n",
    "\n",
    "\n",
    "\n"
   ]
  }
 ],
 "metadata": {
  "kernelspec": {
   "display_name": "Python 3",
   "language": "python",
   "name": "python3"
  },
  "language_info": {
   "codemirror_mode": {
    "name": "ipython",
    "version": 3
   },
   "file_extension": ".py",
   "mimetype": "text/x-python",
   "name": "python",
   "nbconvert_exporter": "python",
   "pygments_lexer": "ipython3",
   "version": "3.7.3"
  }
 },
 "nbformat": 4,
 "nbformat_minor": 4
}
