{
 "cells": [
  {
   "cell_type": "code",
   "execution_count": 2,
   "metadata": {},
   "outputs": [
    {
     "name": "stdout",
     "output_type": "stream",
     "text": [
      "4\n",
      "1 0 0 0\n",
      "1 1 0 1\n",
      "0 1 0 0\n",
      "1 1 1 1\n",
      "possible path\n",
      "1 0 0 0 \n",
      "1 1 0 0 \n",
      "0 1 0 0 \n",
      "0 1 1 1 \n"
     ]
    }
   ],
   "source": [
    "#checking it is safe to move or not\n",
    "def issafe(a,x,y,n):\n",
    "    if x>=0 and x<n and y>=0 and y<n and a[x][y] == 1:\n",
    "        return True\n",
    "    return False\n",
    "def solution(a,re,n,i,j):\n",
    "    if i==n-1 and j==n-1:\n",
    "        re[i][j]=1\n",
    "        return True\n",
    "    if issafe(a,i,j,n):\n",
    "        re[i][j] = 1\n",
    "        if solution(a,re,n,i,j+1):\n",
    "            return True\n",
    "        if solution(a,re,n,i+1,j):\n",
    "            return True\n",
    "        re[i][j] = 0\n",
    "        return False\n",
    "    \n",
    "#input\n",
    "n = int(input())\n",
    "a = [list(map(int,input().split())) for i in range(n)]\n",
    "re = [[0 for i in range(n)] for i in range(n)]\n",
    "if solution(a,re,n,0,0):\n",
    "    print(\"possible path\")\n",
    "    for i in range(n):\n",
    "        for j in range(n):\n",
    "            print(re[i][j],end=\" \")\n",
    "        print()\n",
    "else:\n",
    "    print(\"solution is not possible\")"
   ]
  },
  {
   "cell_type": "code",
   "execution_count": 9,
   "metadata": {},
   "outputs": [
    {
     "name": "stdout",
     "output_type": "stream",
     "text": [
      "4\n",
      "0 1 1 1\n",
      "1 0 1 0\n",
      "1 1 0 1\n",
      "1 0 1 0\n",
      "3\n",
      "1 2 3 2 "
     ]
    }
   ],
   "source": []
  },
  {
   "cell_type": "code",
   "execution_count": null,
   "metadata": {},
   "outputs": [],
   "source": []
  }
 ],
 "metadata": {
  "kernelspec": {
   "display_name": "Python 3",
   "language": "python",
   "name": "python3"
  },
  "language_info": {
   "codemirror_mode": {
    "name": "ipython",
    "version": 3
   },
   "file_extension": ".py",
   "mimetype": "text/x-python",
   "name": "python",
   "nbconvert_exporter": "python",
   "pygments_lexer": "ipython3",
   "version": "3.7.3"
  }
 },
 "nbformat": 4,
 "nbformat_minor": 2
}
