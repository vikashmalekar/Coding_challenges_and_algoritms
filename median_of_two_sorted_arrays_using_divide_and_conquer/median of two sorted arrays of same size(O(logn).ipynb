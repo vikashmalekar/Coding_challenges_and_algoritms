{
 "cells": [
  {
   "cell_type": "code",
   "execution_count": 4,
   "metadata": {},
   "outputs": [
    {
     "name": "stdout",
     "output_type": "stream",
     "text": [
      "1 2 3 6\n",
      "4 6 8 10\n",
      "5.0\n"
     ]
    }
   ],
   "source": [
    "def median(arr,n):\n",
    "    if n%2==0:\n",
    "        return arr[n//2-1]+arr[n//2]\n",
    "    else:\n",
    "        return arr[n//2]\n",
    "def mediantwoarrays(arr1,arr2,n):\n",
    "    if n==0:\n",
    "        return -1\n",
    "    elif n==1:\n",
    "        return (arr1[0]+arr2[0])/2\n",
    "    elif n==2:\n",
    "        return (max(arr1[0],arr2[0])+max(arr1[1],arr2[1]))/2\n",
    "    else:\n",
    "        m1 = median(arr1,n)\n",
    "        m2 = median(arr2,n)\n",
    "        if m1>m2:\n",
    "            if n%2==0:\n",
    "                return mediantwoarrays(arr1[:n//2+1],arr2[n//2-1:],n//2+1)\n",
    "            else:\n",
    "                return mediantwoarrays(arr1[:n//2+1],arr2[n//2:],n//2+1)\n",
    "        else:\n",
    "            if n%2==0:\n",
    "                return mediantwoarrays(arr1[n//2-1:],arr2[:n//2+1],n//2+1)\n",
    "            else:\n",
    "                return mediantwoarrays(arr1[n//2:],arr2[:n//2+1],n//2+1)\n",
    "            \n",
    "                \n",
    "                \n",
    "arr1 = list(map(int,input().split()))\n",
    "arr2 = list(map(int,input().split()))\n",
    "n = len(arr1)\n",
    "print(mediantwoarrays(arr1,arr2,n))"
   ]
  },
  {
   "cell_type": "code",
   "execution_count": null,
   "metadata": {},
   "outputs": [],
   "source": []
  }
 ],
 "metadata": {
  "kernelspec": {
   "display_name": "Python 3",
   "language": "python",
   "name": "python3"
  },
  "language_info": {
   "codemirror_mode": {
    "name": "ipython",
    "version": 3
   },
   "file_extension": ".py",
   "mimetype": "text/x-python",
   "name": "python",
   "nbconvert_exporter": "python",
   "pygments_lexer": "ipython3",
   "version": "3.7.3"
  }
 },
 "nbformat": 4,
 "nbformat_minor": 4
}
