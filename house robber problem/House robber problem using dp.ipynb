{
 "cells": [
  {
   "cell_type": "markdown",
   "metadata": {},
   "source": [
    "There are n houses build in a line, each of which contains some value in it. A thief is going to steal the maximal value of these houses, but he can’t steal in two adjacent houses because the owner of the stolen houses will tell his two neighbours left and right side. What is the maximum stolen value?"
   ]
  },
  {
   "cell_type": "code",
   "execution_count": 12,
   "metadata": {},
   "outputs": [
    {
     "name": "stdout",
     "output_type": "stream",
     "text": [
      "5\n",
      "5 3 4 11 2\n",
      "[5, 5, 9, 16, 16]\n"
     ]
    },
    {
     "data": {
      "text/plain": [
       "16"
      ]
     },
     "execution_count": 12,
     "metadata": {},
     "output_type": "execute_result"
    }
   ],
   "source": [
    "def houserobber(houses,n):\n",
    "    result = [-1 for i in range(n)]\n",
    "    result[0] = houses[0]\n",
    "    result[1] = max(houses[0],houses[1])\n",
    "    for i in range(1,n):\n",
    "        if result[i-2]+houses[i]>= result[i-1]:\n",
    "            result[i] = result[i-2]+houses[i]\n",
    "        else:\n",
    "            result[i] = result[i-1]\n",
    "    print(result)\n",
    "    return result[-1]\n",
    "\n",
    "n = int(input())\n",
    "houses = list(map(int,input().split()))\n",
    "houserobber(houses,n)           "
   ]
  },
  {
   "cell_type": "code",
   "execution_count": null,
   "metadata": {},
   "outputs": [],
   "source": []
  }
 ],
 "metadata": {
  "kernelspec": {
   "display_name": "Python 3",
   "language": "python",
   "name": "python3"
  },
  "language_info": {
   "codemirror_mode": {
    "name": "ipython",
    "version": 3
   },
   "file_extension": ".py",
   "mimetype": "text/x-python",
   "name": "python",
   "nbconvert_exporter": "python",
   "pygments_lexer": "ipython3",
   "version": "3.7.3"
  }
 },
 "nbformat": 4,
 "nbformat_minor": 4
}
